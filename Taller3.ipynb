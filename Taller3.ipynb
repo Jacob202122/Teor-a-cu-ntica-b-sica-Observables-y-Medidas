{
 "cells": [
  {
   "cell_type": "markdown",
   "id": "d42ae383",
   "metadata": {},
   "source": [
    "# Ejercicio 1"
   ]
  },
  {
   "cell_type": "code",
   "execution_count": 1,
   "id": "685842b0",
   "metadata": {},
   "outputs": [
    {
     "name": "stdout",
     "output_type": "stream",
     "text": [
      "0.05263157894736841\n"
     ]
    }
   ],
   "source": [
    "import numpy as np\n",
    "\n",
    "v1 = np.array([[-3-1j],[-2j],[1j],[2]])\n",
    "\n",
    "norma_v1= np.linalg.norm(v1)\n",
    "\n",
    "x = 2\n",
    "\n",
    "probabilidad = np.linalg.norm(v1[x])**2/norma_v1**2\n",
    "\n",
    "print(probabilidad)\n"
   ]
  },
  {
   "cell_type": "markdown",
   "id": "02a3508b",
   "metadata": {},
   "source": [
    "# Ejercico 2"
   ]
  },
  {
   "cell_type": "code",
   "execution_count": 5,
   "id": "b818b2c1",
   "metadata": {},
   "outputs": [
    {
     "name": "stdout",
     "output_type": "stream",
     "text": [
      "La probabilidad de transitar del primer vector al segundo es: 0.43333333333333324\n"
     ]
    }
   ],
   "source": [
    "import numpy as np\n",
    "\n",
    "\n",
    "v1 = np.array([1 + 2j, 3 + 4j])  \n",
    "v2 = np.array([0 + 1j, 1 + 0j]) \n",
    "\n",
    "\n",
    "norma_v1 = np.linalg.norm(v1)\n",
    "norma_v2 = np.linalg.norm(v2)\n",
    "\n",
    "v1_normalizado = v1/norma_v1\n",
    "v2_normalizado = v2/norma_v2\n",
    "\n",
    "producto_interno = np.vdot(v1_normalizado.conj().T, v2_normalizado)\n",
    "\n",
    "\n",
    "probabilidad = np.abs(producto_interno)**2\n",
    "\n",
    "print(\"La probabilidad de transitar del primer vector al segundo es:\", probabilidad)\n",
    "\n"
   ]
  },
  {
   "cell_type": "markdown",
   "id": "e7147d8d",
   "metadata": {},
   "source": [
    "# Complete los retos de programación del capítulo 4.\n",
    "### 1. Amplitud de transición. El sistema puede recibir dos vectores y calcular la probabilidad de transitar de el uno al otro después de hacer la observación"
   ]
  },
  {
   "cell_type": "code",
   "execution_count": 3,
   "id": "3011e71f",
   "metadata": {},
   "outputs": [
    {
     "name": "stdout",
     "output_type": "stream",
     "text": [
      "La amplitud de transición es: (-0.6225317562548818+0.43306556956861336j)\n",
      "La probabilidad es de  0.575091575091575\n"
     ]
    }
   ],
   "source": [
    "import numpy as np\n",
    "\n",
    "v1 = np.array([1+2j,1-3j])\n",
    "v2 = np.array([1, 3+9j])\n",
    "\n",
    "norma_v1 = np.linalg.norm(v1)\n",
    "norma_v2 = np.linalg.norm(v2)\n",
    "\n",
    "v1_normalizado = v1/norma_v1\n",
    "v2_normalizado = v2/norma_v2\n",
    "\n",
    "bra = v1_normalizado.conj().T\n",
    "\n",
    "transition_amplitudes = np.dot(bra,v2_normalizado)\n",
    "\n",
    "print(\"La amplitud de transición es:\",transition_amplitudes)\n",
    "\n",
    "probabilidad = np.abs(transition_amplitudes)**2\n",
    "\n",
    "print(\"La probabilidad es de \", probabilidad)\n",
    "\n"
   ]
  },
  {
   "cell_type": "markdown",
   "id": "47a47155",
   "metadata": {},
   "source": [
    "### 2. Ahora con una matriz que describa un observable y un vector ket, el sistema revisa que la matriz sea hermitiana, y si lo es, calcula la media y la varianza del observable en el estado dado."
   ]
  },
  {
   "cell_type": "code",
   "execution_count": 19,
   "id": "60935d74",
   "metadata": {},
   "outputs": [
    {
     "name": "stdout",
     "output_type": "stream",
     "text": [
      "la media es:  (2.5000000000000004+0j)\n",
      "La varianza es:  (0.25+0j)\n"
     ]
    }
   ],
   "source": [
    "import numpy as np\n",
    "import math\n",
    "\n",
    "def esHermitania(m1):\n",
    "    m1_adjunta = m1.conj().T\n",
    "    return np.allclose(m1,m1_adjunta)\n",
    "\n",
    "\n",
    "\n",
    "def delta(m1, valor_esperado):\n",
    "    I = np.array([[1,0],[0,1]])\n",
    "    return m1 - valor_esperado * I\n",
    "    \n",
    "\n",
    "def varianza(delta,v1):\n",
    "    \n",
    "    delta_cuadrado = np.dot(delta,delta)\n",
    "    mult = np.dot(delta_cuadrado,v1)\n",
    "    \n",
    "    varianza = np.vdot(v1,mult)\n",
    "    return varianza\n",
    "\n",
    "def main():\n",
    "    v1 = np.array([math.sqrt(2)/2 , (math.sqrt(2)/2)*1j])\n",
    "    m1 = np.array([[1,-1j],[1j,2]])\n",
    "    if(esHermitania(m1)):\n",
    "        mult = np.dot(m1,v1)\n",
    "        valor_esperado = np.vdot(mult,v1)\n",
    "        print(\"la media es: \", valor_esperado)\n",
    "        \n",
    "        delta_matriz = delta(m1, valor_esperado)\n",
    "        var = varianza(delta_matriz,v1)\n",
    "    \n",
    "        print(\"La varianza es: \", var)\n",
    "    else:\n",
    "        print(\"La matriz no es hermitania.\")\n",
    "    \n",
    "       \n",
    "if __name__ == \"__main__\":\n",
    "    main()"
   ]
  },
  {
   "cell_type": "markdown",
   "id": "1b6088eb",
   "metadata": {},
   "source": [
    "### 3. El sistema calcula los valores propios del observable y la probabilidad de que el sistema transite a alguno de los vectores propios después de la observación."
   ]
  },
  {
   "cell_type": "code",
   "execution_count": 40,
   "id": "dce83543",
   "metadata": {},
   "outputs": [
    {
     "name": "stdout",
     "output_type": "stream",
     "text": [
      "[-1.41421356+0.j  1.41421356+0.j]\n",
      "[[ 0.92387953+0.j         -0.        -0.38268343j]\n",
      " [-0.        -0.38268343j  0.92387953+0.j        ]]\n",
      "Probabilidad p1: 0.4999999999999999\n"
     ]
    }
   ],
   "source": [
    "v1 = np.array([-1,-1-1j])\n",
    "omega = np.array([[-1,-1j],[1j, 1]])\n",
    "\n",
    "omegav = np.dot(omega,v1)\n",
    "\n",
    "valores_propios, vectores_propios = np.linalg.eig(omega)\n",
    "print(valores_propios)\n",
    "print(vectores_propios)\n",
    "\n",
    "phi = np.array([1/2,1/2])\n",
    "\n",
    "normalizar = phi/ np.linalg.norm(phi)\n",
    "bra = normalizar.conj().T\n",
    "\n",
    "p1 = np.abs(np.vdot(bra,vectores_propios[0]))**2\n",
    "\n",
    "print(\"Probabilidad p1:\", p1)\n"
   ]
  },
  {
   "cell_type": "markdown",
   "id": "de4fa5bb",
   "metadata": {},
   "source": [
    "### 4. Se considera la dinámica del sistema. Ahora con una serie de matrices Un el sistema calcula el estado final a partir de un estado inicial."
   ]
  },
  {
   "cell_type": "code",
   "execution_count": 41,
   "id": "f4294945",
   "metadata": {},
   "outputs": [
    {
     "name": "stdout",
     "output_type": "stream",
     "text": [
      "[0.70710678 0.70710678]\n"
     ]
    }
   ],
   "source": [
    "def serie_matrices(vector, matriz_U):\n",
    "    estado_inicial = vector\n",
    "    for i in matriz_U:\n",
    "        estado_inicial = np.dot(i, estado_inicial)\n",
    "    return estado_inicial\n",
    " \n",
    " \n",
    "def es_unitaria(matriz):\n",
    "    unitaria = np.allclose(np.dot(np.conjugate(matriz).T , matriz), np.eye(matriz.shape[0]))\n",
    "    return unitaria\n",
    " \n",
    "if __name__ == \"__main__\":\n",
    "    vector_inicial = np.array([1/ np.sqrt(2), 1/ np.sqrt(2)])\n",
    "    matriz_U1 = np.array([[0,1], [1,0]])\n",
    "    matriz_U2 = np.array([[1,0], [0,1]])\n",
    "    matrices_U = [matriz_U1, matriz_U2]\n",
    " \n",
    "    estado_final = serie_matrices(vector_inicial, matrices_U)\n",
    "    print(estado_final)    "
   ]
  },
  {
   "cell_type": "markdown",
   "id": "67315fef",
   "metadata": {},
   "source": [
    "# Ejemplos"
   ]
  },
  {
   "cell_type": "markdown",
   "id": "dbfc316f",
   "metadata": {},
   "source": [
    "### 4.3.1\n",
    "## Demostración de Estados de Transición y Probabilidades\n",
    "1. ## **Probabilidad de Transición a un Eigenvector Específico**:\n",
    "  La probabilidad de que un estado inicial normalizado ∣ψ⟩ transite a un eigenvector |e⟩ es:\n",
    "  ### P(∣e⟩∣ψ⟩) = ∣⟨e∣ψ⟩∣^2\n",
    "2. ## :\n",
    "  ∣ψ⟩ se puede expresar como una combinación lineal de eigenvectores:\n",
    "  ### ∣ψ⟩ = C0 ∣e0⟩ +  C1 ∣e1⟩\n",
    "3. ## :\n",
    "  El valor medio de un observable A es:\n",
    "  ### ⟨A^⟩ψ =⟨ψ∣ A ∣ψ⟩=∣c0∣^2 λ0 + ∣c1∣^2 λ1 +…+∣cn−1∣^2 λn-1\n",
    "4. ## **Verificación de la Identidad**:\n",
    "  Se verifica que:\n",
    "  ### ⟨ψ∣ψ⟩=∣c0∣^2 + ∣c1∣^2 +…+ ∣cn−1∣^2 = 1\n",
    "  Y el valor medio se puede expresar como:\n",
    "  ### ⟨A^⟩ψ =⟨ψ∣ A ∣ψ⟩=∣c0∣^2 λ0 + ∣c1∣^2 λ1 +…+∣cn−1∣^2 λn-1"
   ]
  },
  {
   "cell_type": "markdown",
   "id": "20fbeb92",
   "metadata": {},
   "source": [
    "### 4.4.1 \n",
    "\n",
    "Verificar que son matrices unitarias y verificar que el producto entre ambas tambien es unitario:\n",
    "\n",
    "$$  U_1 = \\begin{pmatrix} 0 & 1 \\\\ 1 & 0 \\end{pmatrix} $$\n",
    "\n",
    "$$ U_2 = \\begin{pmatrix} \\frac{\\sqrt{2}}{2} & \\frac{\\sqrt{2}}{2} \\\\ \\frac{\\sqrt{2}}{2} & -\\frac{\\sqrt{2}}{2} \\end{pmatrix} $$\n",
    "\n",
    "\n"
   ]
  },
  {
   "cell_type": "code",
   "execution_count": 45,
   "id": "cb670439",
   "metadata": {},
   "outputs": [
    {
     "name": "stdout",
     "output_type": "stream",
     "text": [
      "U1 es unitaria: True\n",
      "U2 es unitaria: True\n",
      "U1*U2 es unitaria: True\n"
     ]
    }
   ],
   "source": [
    "u1 = np.array([[0,1],[1,0]])\n",
    "u2 = np.array([[math.sqrt(2)/2,(math.sqrt(2)/2)],[math.sqrt(2)/2,-(math.sqrt(2)/2)]])\n",
    "u2u1 = np.dot(u1,u2)\n",
    "\n",
    "def es_unitaria(u):\n",
    "    \n",
    "    u_conjugada_transpuesta = np.conjugate(u).T\n",
    "    producto = np.dot(u, u_conjugada_transpuesta)\n",
    "    identidad = np.eye(u.shape[0])\n",
    "    return np.allclose(producto, identidad)\n",
    "\n",
    "# Comprobación de la unitariedad\n",
    "print(\"U1 es unitaria:\", es_unitaria(u1))\n",
    "print(\"U2 es unitaria:\", es_unitaria(u2))\n",
    "print(\"U1*U2 es unitaria:\", es_unitaria(u2u1))\n"
   ]
  },
  {
   "cell_type": "markdown",
   "id": "36e981e5",
   "metadata": {},
   "source": [
    "### 4.4.2\n",
    "Determinar el estado después de tres clics:\n",
    "\n",
    "$$\n",
    "\\begin{pmatrix}\n",
    "0 & \\frac{1}{\\sqrt{2}} & \\frac{1}{\\sqrt{2}} & 0 \\\\\n",
    "\\frac{i}{\\sqrt{2}} & 0 & 0 & \\frac{1}{\\sqrt{2}} \\\\\n",
    "\\frac{1}{\\sqrt{2}} & 0 & 0 & \\frac{i}{\\sqrt{2}} \\\\\n",
    "0 & \\frac{1}{\\sqrt{2}} & -\\frac{1}{\\sqrt{2}} & 0\n",
    "\\end{pmatrix}\n",
    "$$\n",
    "\n",
    "Estado inicial:\n",
    "\n",
    "$$\n",
    "\\begin{pmatrix}\n",
    "1 \\\\\n",
    "0 \\\\\n",
    "0 \\\\\n",
    "0\n",
    "\\end{pmatrix}\n",
    "$$\n",
    "\n"
   ]
  },
  {
   "cell_type": "code",
   "execution_count": 47,
   "id": "7bfc2d7e",
   "metadata": {},
   "outputs": [
    {
     "name": "stdout",
     "output_type": "stream",
     "text": [
      "[ 0.        +0.j         -0.70710678+0.70710678j  0.        +0.j\n",
      "  0.        +0.j        ]\n"
     ]
    }
   ],
   "source": [
    "import numpy as np\n",
    "import math\n",
    "\n",
    "\n",
    "m1 = np.array([[0, 1/math.sqrt(2), 1/math.sqrt(2), 0],\n",
    "                [1j/math.sqrt(2), 0, 0, 1/math.sqrt(2)],\n",
    "                [1/math.sqrt(2), 0, 0, 1j/math.sqrt(2)],\n",
    "                [0, 1/math.sqrt(2), -1/math.sqrt(2), 0]])\n",
    "\n",
    "\n",
    "v1 = np.array([1, 0, 0, 0])\n",
    "\n",
    "click1 = np.dot(m1, v1)\n",
    "click2 = np.dot(m1, click1)\n",
    "click3 = np.dot(m1, click2)\n",
    "\n",
    "\n",
    "print(click3)\n"
   ]
  }
 ],
 "metadata": {
  "kernelspec": {
   "display_name": ".venv",
   "language": "python",
   "name": "python3"
  },
  "language_info": {
   "codemirror_mode": {
    "name": "ipython",
    "version": 3
   },
   "file_extension": ".py",
   "mimetype": "text/x-python",
   "name": "python",
   "nbconvert_exporter": "python",
   "pygments_lexer": "ipython3",
   "version": "3.11.9"
  }
 },
 "nbformat": 4,
 "nbformat_minor": 5
}
